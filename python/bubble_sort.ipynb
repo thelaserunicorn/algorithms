{
 "cells": [
  {
   "cell_type": "code",
   "execution_count": 4,
   "id": "e96a2bf0",
   "metadata": {},
   "outputs": [],
   "source": [
    "A = [15,67,32,50,90,102,18,47,-20]"
   ]
  },
  {
   "cell_type": "code",
   "execution_count": 5,
   "id": "e5042b4a",
   "metadata": {},
   "outputs": [],
   "source": [
    "def bubble_sort(arr):\n",
    "    n = len(arr)\n",
    "    for i in range(n):\n",
    "        for j in range(0, n-i-1):\n",
    "            if arr[j] > arr[j+1]:\n",
    "                arr[j], arr[j+1] = arr[j+1], arr[j]\n",
    "    print(\"Sorted Array\")\n",
    "    for i in range (len(arr)):\n",
    "        print(arr[i]) if (i==len(arr)-1) else print(arr[i], end=\", \")"
   ]
  },
  {
   "cell_type": "code",
   "execution_count": 6,
   "id": "e878a098",
   "metadata": {},
   "outputs": [
    {
     "name": "stdout",
     "output_type": "stream",
     "text": [
      "Sorted Array\n",
      "-20, 15, 18, 32, 47, 50, 67, 90, 102\n"
     ]
    }
   ],
   "source": [
    "bubble_sort(A)"
   ]
  }
 ],
 "metadata": {
  "kernelspec": {
   "display_name": "Python 3 (ipykernel)",
   "language": "python",
   "name": "python3"
  },
  "language_info": {
   "codemirror_mode": {
    "name": "ipython",
    "version": 3
   },
   "file_extension": ".py",
   "mimetype": "text/x-python",
   "name": "python",
   "nbconvert_exporter": "python",
   "pygments_lexer": "ipython3",
   "version": "3.9.5"
  }
 },
 "nbformat": 4,
 "nbformat_minor": 5
}
