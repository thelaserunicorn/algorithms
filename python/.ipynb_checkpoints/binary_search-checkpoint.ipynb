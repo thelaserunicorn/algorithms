{
 "cells": [
  {
   "cell_type": "code",
   "execution_count": 2,
   "id": "4427602e",
   "metadata": {},
   "outputs": [],
   "source": [
    "def binary_search(arr,x):\n",
    "    l = 0;\n",
    "    r = len(arr)-1\n",
    "\n",
    "    ## base case\n",
    "    while l<=r:\n",
    "        \n",
    "        mid = l + (r-l)//2\n",
    "        if arr[mid] == x:\n",
    "            return mid\n",
    "        \n",
    "        elif arr[mid] < x:\n",
    "            l = mid + 1;\n",
    "        else:\n",
    "            r = mid - 1\n",
    "            \n",
    "    return - 1"
   ]
  },
  {
   "cell_type": "code",
   "execution_count": 13,
   "id": "13da2e70",
   "metadata": {},
   "outputs": [
    {
     "name": "stdout",
     "output_type": "stream",
     "text": [
      "0 is not present in the array\n",
      "1 is not present in the array\n",
      "2 is at 0th index\n",
      "3 is at 1th index\n",
      "4 is at 2th index\n"
     ]
    }
   ],
   "source": [
    "arr = [3,4,6,8,10]\n",
    "x=[1,2,3,4,6]\n",
    "\n",
    "for i in range(len(x)):\n",
    "    \n",
    "    result = binary_search(arr,x[i])\n",
    "    if result != -1:\n",
    "        print(f\"{i} is at {result}th index\")\n",
    "    else:\n",
    "        print(f\"{i} is not present in the array\")"
   ]
  },
  {
   "cell_type": "code",
   "execution_count": null,
   "id": "94465da5",
   "metadata": {},
   "outputs": [],
   "source": []
  }
 ],
 "metadata": {
  "kernelspec": {
   "display_name": "Python 3 (ipykernel)",
   "language": "python",
   "name": "python3"
  },
  "language_info": {
   "codemirror_mode": {
    "name": "ipython",
    "version": 3
   },
   "file_extension": ".py",
   "mimetype": "text/x-python",
   "name": "python",
   "nbconvert_exporter": "python",
   "pygments_lexer": "ipython3",
   "version": "3.9.5"
  }
 },
 "nbformat": 4,
 "nbformat_minor": 5
}
