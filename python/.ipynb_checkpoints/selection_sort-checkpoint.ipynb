{
 "cells": [
  {
   "cell_type": "code",
   "execution_count": 26,
   "id": "d97363c5",
   "metadata": {},
   "outputs": [],
   "source": [
    "A = [25,67,32,50,90,102,18,47,-20]"
   ]
  },
  {
   "cell_type": "code",
   "execution_count": 27,
   "id": "e048970c",
   "metadata": {},
   "outputs": [],
   "source": [
    "def selection_sort(arr):\n",
    "    for i in range(len(arr)):\n",
    "        min_idx = i;\n",
    "        for j in range(i+1, len(arr)):\n",
    "            if arr[min_idx] > arr[j]:\n",
    "                min_idx = j\n",
    "        arr[i], arr[min_idx] = arr[min_idx], arr[i]\n",
    "    print(\"Sorted Array\")\n",
    "    for i in range (len(arr)):\n",
    "        print(arr[i]) if (i==len(arr)-1) else print(arr[i], end=\", \")"
   ]
  },
  {
   "cell_type": "code",
   "execution_count": 28,
   "id": "06945aa8",
   "metadata": {},
   "outputs": [
    {
     "name": "stdout",
     "output_type": "stream",
     "text": [
      "Sorted Array\n",
      "-20, 18, 25, 32, 47, 50, 67, 90, 102\n"
     ]
    }
   ],
   "source": [
    "selection_sort(A)"
   ]
  }
 ],
 "metadata": {
  "kernelspec": {
   "display_name": "Python 3 (ipykernel)",
   "language": "python",
   "name": "python3"
  },
  "language_info": {
   "codemirror_mode": {
    "name": "ipython",
    "version": 3
   },
   "file_extension": ".py",
   "mimetype": "text/x-python",
   "name": "python",
   "nbconvert_exporter": "python",
   "pygments_lexer": "ipython3",
   "version": "3.9.5"
  }
 },
 "nbformat": 4,
 "nbformat_minor": 5
}
